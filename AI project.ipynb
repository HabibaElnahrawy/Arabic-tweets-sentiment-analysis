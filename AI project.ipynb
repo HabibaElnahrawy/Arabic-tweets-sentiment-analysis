{
 "cells": [
  {
   "cell_type": "markdown",
   "id": "eb3d4cd0",
   "metadata": {},
   "source": [
    "# Libraries"
   ]
  },
  {
   "cell_type": "code",
   "execution_count": 1,
   "id": "873d5d68",
   "metadata": {},
   "outputs": [],
   "source": [
    "import pandas as pd\n",
    "import numpy as np\n",
    "from sklearn.linear_model import LogisticRegression\n",
    "from sklearn.model_selection import train_test_split\n",
    "import pyarabic.araby as araby\n",
    "from sklearn.metrics import classification_report, confusion_matrix\n",
    "from sklearn.feature_extraction.text import TfidfVectorizer,CountVectorizer"
   ]
  },
  {
   "cell_type": "code",
   "execution_count": 2,
   "id": "4d25c960",
   "metadata": {},
   "outputs": [],
   "source": [
    "import emoji\n",
    "import re\n",
    "import pyarabic.araby as araby\n",
    "import stopwords\n",
    "from sklearn import svm\n",
    "from sklearn import metrics\n",
    "from sklearn.tree import DecisionTreeClassifier\n",
    "from sklearn.model_selection import KFold as kf\n",
    "from sklearn.model_selection import cross_val_score\n",
    "from sklearn.model_selection import KFold"
   ]
  },
  {
   "cell_type": "code",
   "execution_count": 3,
   "id": "c3d8fca8",
   "metadata": {},
   "outputs": [],
   "source": [
    "alldata=pd.read_csv('Book1.csv')"
   ]
  },
  {
   "cell_type": "code",
   "execution_count": 4,
   "id": "8b1f56ff",
   "metadata": {},
   "outputs": [],
   "source": [
    "alldata= alldata.rename(columns={\"pos\":\"NegOrPos\"})\n",
    "alldata= alldata.rename(columns={\"نحن يتحول نود أن نقوله إلى دعاء لله تبحثوا فينا إننا مكسورون القوة\":\"tweets\"})"
   ]
  },
  {
   "cell_type": "code",
   "execution_count": 5,
   "id": "3db0fdf4",
   "metadata": {},
   "outputs": [],
   "source": [
    "alldata['NegOrPos']=alldata.NegOrPos.map({\"neg\":0,\"pos\":1})\n"
   ]
  },
  {
   "cell_type": "code",
   "execution_count": 6,
   "id": "193ea8d1",
   "metadata": {},
   "outputs": [],
   "source": [
    "from sklearn.feature_extraction.text import TfidfVectorizer,CountVectorizer\n",
    "countvectorizer = CountVectorizer(analyzer= 'word',max_features=200)\n",
    "tfidfvectorizer = TfidfVectorizer(analyzer='word',max_features=200)\n",
    "count_wm = countvectorizer.fit_transform(alldata['tweets'].values.astype('U'))\n",
    "tfidf_wm = tfidfvectorizer.fit_transform(alldata['tweets'].values.astype('U'))"
   ]
  },
  {
   "cell_type": "code",
   "execution_count": 7,
   "id": "ffe8aebe",
   "metadata": {},
   "outputs": [],
   "source": [
    "count_tokens = countvectorizer.get_feature_names()\n",
    "tfidf_tokens = tfidfvectorizer.get_feature_names()"
   ]
  },
  {
   "cell_type": "code",
   "execution_count": 8,
   "id": "f8208c6a",
   "metadata": {},
   "outputs": [],
   "source": [
    "df_countvect = pd.DataFrame(data = count_wm.toarray(),columns = count_tokens)\n",
    "df_tfidfvect = pd.DataFrame(data = tfidf_wm.toarray(),columns = tfidf_tokens)"
   ]
  },
  {
   "cell_type": "code",
   "execution_count": 9,
   "id": "48eec851",
   "metadata": {},
   "outputs": [],
   "source": [
    "X_train, X_test, y_train, y_test =train_test_split(df_countvect,alldata['NegOrPos'], train_size=0.65,test_size=0.35, random_state=101)"
   ]
  },
  {
   "cell_type": "markdown",
   "id": "b201a505",
   "metadata": {},
   "source": [
    "# SVM"
   ]
  },
  {
   "cell_type": "code",
   "execution_count": 10,
   "id": "f7a14ec5",
   "metadata": {},
   "outputs": [],
   "source": [
    "clf = svm.SVC(kernel='linear')"
   ]
  },
  {
   "cell_type": "code",
   "execution_count": 11,
   "id": "bb251e5e",
   "metadata": {},
   "outputs": [
    {
     "data": {
      "text/plain": [
       "SVC(kernel='linear')"
      ]
     },
     "execution_count": 11,
     "metadata": {},
     "output_type": "execute_result"
    }
   ],
   "source": [
    "clf.fit(X_train, y_train)"
   ]
  },
  {
   "cell_type": "code",
   "execution_count": 12,
   "id": "331bf169",
   "metadata": {},
   "outputs": [],
   "source": [
    "y_pred = clf.predict(X_test)"
   ]
  },
  {
   "cell_type": "code",
   "execution_count": 13,
   "id": "3894cc8f",
   "metadata": {},
   "outputs": [
    {
     "name": "stdout",
     "output_type": "stream",
     "text": [
      "Accuracy: 0.5942857142857143\n"
     ]
    }
   ],
   "source": [
    "print(\"Accuracy:\",metrics.accuracy_score(y_test, y_pred))"
   ]
  },
  {
   "cell_type": "code",
   "execution_count": 14,
   "id": "feac7982",
   "metadata": {},
   "outputs": [
    {
     "name": "stdout",
     "output_type": "stream",
     "text": [
      "Precision: 0.6224066390041494\n"
     ]
    }
   ],
   "source": [
    "print(\"Precision:\",metrics.precision_score(y_test, y_pred))"
   ]
  },
  {
   "cell_type": "code",
   "execution_count": 15,
   "id": "066a0b81",
   "metadata": {},
   "outputs": [
    {
     "name": "stdout",
     "output_type": "stream",
     "text": [
      "Recall: 0.43731778425655976\n"
     ]
    }
   ],
   "source": [
    "print(\"Recall:\",metrics.recall_score(y_test, y_pred))"
   ]
  },
  {
   "cell_type": "markdown",
   "id": "6e973bad",
   "metadata": {},
   "source": [
    "# RL"
   ]
  },
  {
   "cell_type": "code",
   "execution_count": 16,
   "id": "187342c3",
   "metadata": {},
   "outputs": [],
   "source": [
    "a=LogisticRegression().fit(X_train.values[:1000],y_train[:1000])"
   ]
  },
  {
   "cell_type": "code",
   "execution_count": 17,
   "id": "8c10a9bc",
   "metadata": {},
   "outputs": [
    {
     "data": {
      "text/plain": [
       "0.5814285714285714"
      ]
     },
     "execution_count": 17,
     "metadata": {},
     "output_type": "execute_result"
    }
   ],
   "source": [
    "a.score(X_test,y_test)"
   ]
  },
  {
   "cell_type": "code",
   "execution_count": 18,
   "id": "69b9c1e8",
   "metadata": {},
   "outputs": [
    {
     "name": "stdout",
     "output_type": "stream",
     "text": [
      "intercept: [-0.24531716]\n",
      "coef: [[ 9.67711326e-02 -4.25901696e-01  9.67711326e-02 -1.40377878e-01\n",
      "  -5.46997035e-01 -1.78596266e-01 -9.17166792e-01  1.99627404e-01\n",
      "  -5.20123220e-01  5.09319547e-01  1.64551858e-01 -3.02093841e-01\n",
      "  -2.15546725e-01  8.62628345e-01 -3.08810321e-01 -5.34644264e-01\n",
      "   3.72753849e-01  7.78433831e-01  2.10733101e-02 -1.93834677e-01\n",
      "  -5.02438730e-01 -1.18270543e-01 -9.17687388e-01  6.02374409e-01\n",
      "   1.88554285e-02  3.28430508e-01 -6.90497851e-01 -3.15436830e-02\n",
      "   5.47037080e-01  8.59363353e-01 -2.10213869e-01  5.94672099e-01\n",
      "   9.99748406e-01  9.01709659e-01  3.90633254e-01  1.03512910e+00\n",
      "   6.52872889e-02 -3.37132350e-01  1.02011247e+00 -6.61660461e-02\n",
      "   7.57300982e-01  6.32536267e-01 -7.82176188e-01  5.07331732e-01\n",
      "  -1.52617312e-02 -6.42985490e-02  6.13728985e-01  4.13420765e-01\n",
      "   6.93482195e-01  2.70554584e-01 -5.53646526e-01  1.72371538e-01\n",
      "  -1.93834677e-01  5.76924029e-01  1.60022626e+00  3.92909693e-02\n",
      "   2.84800133e-01  2.91843808e-01  7.51611764e-01  5.37021894e-01\n",
      "   1.15009976e-01  3.09259088e-01  4.11852926e-01 -5.81090867e-02\n",
      "   1.23606340e+00  1.46960685e-01  3.87178801e-02  1.08912970e-01\n",
      "   1.62001134e-01 -3.08562037e-01 -5.28319333e-01  1.63974569e-01\n",
      "   9.67711326e-02 -1.67195522e-01 -1.13922975e-01 -3.09709677e-01\n",
      "   6.90139811e-01  2.21458093e-01  2.93659381e-01  1.27459822e-01\n",
      "  -1.01846334e-01  4.97116017e-02  9.88417731e-02 -1.93834677e-01\n",
      "  -4.14310312e-02  7.63598134e-02 -1.35814226e+00  1.14898166e-01\n",
      "   1.40344605e-01  4.26252429e-01 -4.03296684e-01  1.39407998e-01\n",
      "  -2.13682994e-01  6.22766970e-01 -1.32271603e+00  5.12848683e-01\n",
      "   3.01328403e-01  3.78412615e-01  5.77902871e-01  1.45141496e-01\n",
      "   6.20824026e-01  7.65598324e-01  1.34786490e+00  2.67591782e-01\n",
      "   3.50598312e-01  2.22994534e-01  8.26635409e-01  1.00161377e-01\n",
      "  -4.55939142e-01 -1.93834677e-01  3.36673694e-01 -1.20050456e-01\n",
      "   1.10076626e+00 -2.33759023e-01 -7.90063674e-01  9.70951746e-03\n",
      "   1.03649310e+00  2.08627671e-01  1.08481822e+00 -2.12942012e-01\n",
      "  -4.64742797e-01 -5.68338994e-01 -1.21448327e+00  2.89241157e-01\n",
      "  -9.68812784e-01  3.34555739e-01  6.38686554e-01 -2.41744038e-01\n",
      "  -2.83215858e-01  7.28584345e-01 -5.49680837e-01 -6.48236335e-01\n",
      "   4.25245403e-01  9.55553064e-01 -2.90752015e-01  3.09807222e-01\n",
      "  -5.00704739e-01  6.02844633e-01  1.05156930e-02 -9.93061037e-02\n",
      "  -4.32762828e-01  1.84234434e-02 -2.23990751e-01  7.25599477e-01\n",
      "  -1.54699548e-01 -1.01224562e+00 -1.14031664e-01  6.67953535e-01\n",
      "  -7.13539017e-01  4.94482095e-01 -5.02955926e-01 -1.12263198e+00\n",
      "   3.77529326e-01  2.22881460e-01  9.72153301e-01 -2.86498111e-02\n",
      "   6.08704086e-01 -3.28740381e-01  3.18604546e-01  6.43221152e-01\n",
      "   1.01613480e-01 -9.66927516e-01  2.34367796e-01 -6.52550984e-01\n",
      "   3.76872223e-01  4.70063510e-01  5.50500282e-01 -8.94850675e-01\n",
      "   4.02949611e-01  8.68635037e-01 -5.35057994e-01 -8.68134190e-01\n",
      "   9.06550069e-03 -2.22062790e-01 -2.79145299e-01 -4.17783772e-01\n",
      "  -4.02210422e-01  9.67711326e-02 -1.53514736e-01 -4.98214226e-01\n",
      "  -1.05397443e+00  1.14123599e-01 -1.27398042e+00 -1.11283782e-01\n",
      "  -7.45081501e-02  9.67711326e-02  4.05383917e-04  1.66110667e-01\n",
      "  -6.70934727e-02  2.48066773e-01  5.05751847e-01 -3.99024575e-01\n",
      "   4.52665614e-01  7.27380921e-01 -4.88982150e-01 -2.84413512e-01\n",
      "   3.97457044e-02  5.33107090e-01 -1.40614334e-01  4.28708526e-01]]\n",
      "\n"
     ]
    }
   ],
   "source": [
    "print('intercept:', a.intercept_)\n",
    "print('coef:', a.coef_, end='\\n\\n')"
   ]
  },
  {
   "cell_type": "code",
   "execution_count": 19,
   "id": "4b9df588",
   "metadata": {},
   "outputs": [
    {
     "name": "stdout",
     "output_type": "stream",
     "text": [
      "p_pred:\n",
      "[[0.90301805 0.09698195]\n",
      " [0.56102356 0.43897644]\n",
      " [0.7794007  0.2205993 ]\n",
      " ...\n",
      " [0.82043502 0.17956498]\n",
      " [0.37080565 0.62919435]\n",
      " [0.56102356 0.43897644]]\n",
      "\n"
     ]
    }
   ],
   "source": [
    "p_pred = a.predict_proba(X_train)\n",
    "print('p_pred:', p_pred, sep='\\n', end='\\n\\n')"
   ]
  },
  {
   "cell_type": "code",
   "execution_count": 20,
   "id": "c9ff6530",
   "metadata": {},
   "outputs": [
    {
     "name": "stdout",
     "output_type": "stream",
     "text": [
      "y_pred: [0 0 0 ... 0 1 0]\n",
      "\n"
     ]
    }
   ],
   "source": [
    "y_pred = a.predict(X_train)\n",
    "print('y_pred:', y_pred, end='\\n\\n')"
   ]
  },
  {
   "cell_type": "code",
   "execution_count": 21,
   "id": "1a948dec",
   "metadata": {},
   "outputs": [
    {
     "name": "stdout",
     "output_type": "stream",
     "text": [
      "score: 0.7151655119322555\n",
      "\n"
     ]
    }
   ],
   "source": [
    "score_ = a.score(X_train,y_train)\n",
    "print('score:', score_, end='\\n\\n')"
   ]
  },
  {
   "cell_type": "code",
   "execution_count": 22,
   "id": "68d36ef4",
   "metadata": {},
   "outputs": [
    {
     "name": "stdout",
     "output_type": "stream",
     "text": [
      "conf_m:\n",
      "[[512 131]\n",
      " [239 417]]\n",
      "\n"
     ]
    }
   ],
   "source": [
    "conf_m = confusion_matrix(y_train, y_pred)\n",
    "print('conf_m:', conf_m, sep='\\n', end='\\n\\n')"
   ]
  },
  {
   "cell_type": "code",
   "execution_count": 23,
   "id": "1576ace8",
   "metadata": {},
   "outputs": [
    {
     "name": "stdout",
     "output_type": "stream",
     "text": [
      "report:\n",
      "              precision    recall  f1-score   support\n",
      "\n",
      "           0       0.68      0.80      0.73       643\n",
      "           1       0.76      0.64      0.69       656\n",
      "\n",
      "    accuracy                           0.72      1299\n",
      "   macro avg       0.72      0.72      0.71      1299\n",
      "weighted avg       0.72      0.72      0.71      1299\n",
      "\n"
     ]
    }
   ],
   "source": [
    "report = classification_report(y_train, y_pred)\n",
    "print('report:', report, sep='\\n')"
   ]
  },
  {
   "cell_type": "markdown",
   "id": "9120d0c4",
   "metadata": {},
   "source": [
    "# DT"
   ]
  },
  {
   "cell_type": "code",
   "execution_count": 24,
   "id": "20c95c40",
   "metadata": {},
   "outputs": [],
   "source": [
    "clf = DecisionTreeClassifier()"
   ]
  },
  {
   "cell_type": "code",
   "execution_count": 25,
   "id": "b98d4995",
   "metadata": {},
   "outputs": [],
   "source": [
    "accuracy = cross_val_score(clf,X_test,y_test,scoring ='accuracy',cv=20)"
   ]
  },
  {
   "cell_type": "code",
   "execution_count": 26,
   "id": "6e2c44e0",
   "metadata": {},
   "outputs": [
    {
     "name": "stdout",
     "output_type": "stream",
     "text": [
      "[0.65714286 0.54285714 0.57142857 0.65714286 0.51428571 0.62857143\n",
      " 0.6        0.51428571 0.6        0.51428571 0.68571429 0.57142857\n",
      " 0.4        0.54285714 0.62857143 0.62857143 0.62857143 0.51428571\n",
      " 0.62857143 0.51428571]\n"
     ]
    }
   ],
   "source": [
    "print(accuracy)"
   ]
  },
  {
   "cell_type": "code",
   "execution_count": 27,
   "id": "66a5bf48",
   "metadata": {},
   "outputs": [],
   "source": [
    "clf = clf.fit(X_train,y_train)"
   ]
  },
  {
   "cell_type": "code",
   "execution_count": 28,
   "id": "4f50e03f",
   "metadata": {},
   "outputs": [],
   "source": [
    "y_pred = clf.predict(X_test)"
   ]
  },
  {
   "cell_type": "code",
   "execution_count": 29,
   "id": "8162e538",
   "metadata": {},
   "outputs": [
    {
     "name": "stdout",
     "output_type": "stream",
     "text": [
      "Accuracy: 0.57\n"
     ]
    }
   ],
   "source": [
    "print(\"Accuracy:\",metrics.accuracy_score(y_test, y_pred))"
   ]
  },
  {
   "cell_type": "code",
   "execution_count": null,
   "id": "93a11ce0",
   "metadata": {},
   "outputs": [],
   "source": []
  },
  {
   "cell_type": "code",
   "execution_count": null,
   "id": "b0187e28",
   "metadata": {},
   "outputs": [],
   "source": []
  }
 ],
 "metadata": {
  "kernelspec": {
   "display_name": "Python 3 (ipykernel)",
   "language": "python",
   "name": "python3"
  },
  "language_info": {
   "codemirror_mode": {
    "name": "ipython",
    "version": 3
   },
   "file_extension": ".py",
   "mimetype": "text/x-python",
   "name": "python",
   "nbconvert_exporter": "python",
   "pygments_lexer": "ipython3",
   "version": "3.9.7"
  }
 },
 "nbformat": 4,
 "nbformat_minor": 5
}
